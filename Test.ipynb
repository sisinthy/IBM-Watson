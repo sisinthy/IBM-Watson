{
    "cells": [
        {
            "metadata": {},
            "cell_type": "markdown",
            "source": "# My Jupyter Notebook on IBM Watson Studio"
        },
        {
            "metadata": {},
            "cell_type": "markdown",
            "source": "**SHASHANK SISINTHY**  \nManager"
        },
        {
            "metadata": {},
            "cell_type": "markdown",
            "source": "*My interest in data science stems from my love for numbers and statistics. The insights one can draw from data are indeed fascinating.*"
        },
        {
            "metadata": {},
            "cell_type": "markdown",
            "source": "### In the following cell i add two numbers a and b"
        },
        {
            "metadata": {},
            "cell_type": "code",
            "source": "a = 2\nb = 8\nprint(\"The sum of a + b is:\")\nc = a + b\nprint(c)",
            "execution_count": 14,
            "outputs": [
                {
                    "output_type": "stream",
                    "text": "The sum of a + b is:\n10\n",
                    "name": "stdout"
                }
            ]
        },
        {
            "metadata": {},
            "cell_type": "markdown",
            "source": "***\n\nColours in a rainbow are:\n* Violet\n* Indigo\n* Blue\n* Green\n* Yellow\n* Orange\n* Red\n* ~~Pink~~\n\n***\n\n[Coursera](https://coursera.org)\n"
        }
    ],
    "metadata": {
        "kernelspec": {
            "name": "python3",
            "display_name": "Python 3.7",
            "language": "python"
        },
        "language_info": {
            "name": "python",
            "version": "3.7.10",
            "mimetype": "text/x-python",
            "codemirror_mode": {
                "name": "ipython",
                "version": 3
            },
            "pygments_lexer": "ipython3",
            "nbconvert_exporter": "python",
            "file_extension": ".py"
        }
    },
    "nbformat": 4,
    "nbformat_minor": 1
}